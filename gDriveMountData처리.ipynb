{
  "nbformat": 4,
  "nbformat_minor": 0,
  "metadata": {
    "colab": {
      "private_outputs": true,
      "provenance": [],
      "authorship_tag": "ABX9TyOEce9sgxqJAVDHoAQfJiSj",
      "include_colab_link": true
    },
    "kernelspec": {
      "name": "python3",
      "display_name": "Python 3"
    },
    "language_info": {
      "name": "python"
    }
  },
  "cells": [
    {
      "cell_type": "markdown",
      "metadata": {
        "id": "view-in-github",
        "colab_type": "text"
      },
      "source": [
        "<a href=\"https://colab.research.google.com/github/bonofaber/test1/blob/master/gDriveMountData%EC%B2%98%EB%A6%AC.ipynb\" target=\"_parent\"><img src=\"https://colab.research.google.com/assets/colab-badge.svg\" alt=\"Open In Colab\"/></a>"
      ]
    },
    {
      "cell_type": "code",
      "execution_count": null,
      "metadata": {
        "id": "LAnttovjq-z4"
      },
      "outputs": [],
      "source": [
        "#구글 드라이브 마운트\n",
        "from google.colab import drive\n",
        "drive.mount('/content/drive')"
      ]
    },
    {
      "cell_type": "code",
      "source": [
        "pwd"
      ],
      "metadata": {
        "id": "vAfKGPm9rKF2"
      },
      "execution_count": null,
      "outputs": []
    },
    {
      "cell_type": "code",
      "source": [
        "#데이터셋 가져오기\n",
        "import pandas as pd\n",
        "file_path = '/content/drive/MyDrive/2nd 전환/K-디지털 강사/교육이수/AI사이버보안_KISIA/data/DGA_train.csv'\n",
        "\n",
        "df = pd.read_csv(file_path)\n",
        "df.head()"
      ],
      "metadata": {
        "id": "N5xhosolsx1m"
      },
      "execution_count": null,
      "outputs": []
    },
    {
      "cell_type": "code",
      "source": [
        "print(df.shape)\n",
        "print(df.info())"
      ],
      "metadata": {
        "id": "9uEEgux9sx_n"
      },
      "execution_count": null,
      "outputs": []
    },
    {
      "cell_type": "code",
      "source": [
        "#df[df['dga'] == 'no']\n",
        "#df[df['dga'] == 'yes']\n",
        "df['class'].value_counts() # class: 0 정상, 각 번호별로 규칙에 따라 부여"
      ],
      "metadata": {
        "id": "D6IwH1jfuRcW"
      },
      "execution_count": null,
      "outputs": []
    },
    {
      "cell_type": "markdown",
      "source": [
        "각 클래스별로 unbalance 있음"
      ],
      "metadata": {
        "id": "IGZ4RNAXvwFY"
      }
    },
    {
      "cell_type": "code",
      "source": [
        "#시각화 코드\n",
        "import plotly.express as px\n",
        "\n",
        "#악성인것만 클래스 봄\n",
        "class_count = df[df['dga'] == 'yes']['class'].value_counts().sort_index()\n",
        "\n",
        "# plotly 장점 - drage해서 정보보기, 확대 등 가능\n",
        "fig = px.bar(\n",
        "    df,\n",
        "    x=class_count.index,\n",
        "    y=class_count.values,\n",
        "    labels = {'x': \"악성도매인 클래스\", \"y\": \"갯수\"},\n",
        "    text=class_count.values,\n",
        "    title=\"악성도메인 클래스별 갯수\"\n",
        ")\n",
        "fig.show()"
      ],
      "metadata": {
        "id": "q8OlrGlluRjW"
      },
      "execution_count": null,
      "outputs": []
    },
    {
      "cell_type": "code",
      "source": [
        "df[df['class']  == 1].head(10)"
      ],
      "metadata": {
        "id": "N10ppWnAuRnF"
      },
      "execution_count": null,
      "outputs": []
    },
    {
      "cell_type": "code",
      "source": [
        "df[df['class']  == 2].head(5)"
      ],
      "metadata": {
        "id": "BUE2lbt_FMQb"
      },
      "execution_count": null,
      "outputs": []
    },
    {
      "cell_type": "code",
      "source": [
        "df[df['class']  == 0].head(5)  #정상 도메인"
      ],
      "metadata": {
        "id": "xFU817-nFoLL"
      },
      "execution_count": null,
      "outputs": []
    },
    {
      "cell_type": "code",
      "source": [
        "df[df['domain'].str.contains('naver', case=False)].head(5)  #naver 포함 도메인"
      ],
      "metadata": {
        "id": "t7qURL82F88P"
      },
      "execution_count": null,
      "outputs": []
    },
    {
      "cell_type": "code",
      "source": [
        "#컬럼 추가 생성\n",
        "df[['subdomain', 'topdomain']] = df['domain'].str.rsplit('.', n=1,expand=True)"
      ],
      "metadata": {
        "id": "osymVboCGbvR"
      },
      "execution_count": null,
      "outputs": []
    },
    {
      "cell_type": "code",
      "source": [
        "df"
      ],
      "metadata": {
        "id": "-uPb0SPCHV5T"
      },
      "execution_count": null,
      "outputs": []
    },
    {
      "cell_type": "code",
      "source": [
        "#도메인 길이 적용\n",
        "df['domain_length'] = df['subdomain'].apply(len)"
      ],
      "metadata": {
        "id": "quC-vUTtHoE_"
      },
      "execution_count": null,
      "outputs": []
    },
    {
      "cell_type": "code",
      "source": [
        "df"
      ],
      "metadata": {
        "id": "8Aq-17JeIDom"
      },
      "execution_count": null,
      "outputs": []
    },
    {
      "cell_type": "code",
      "source": [
        "#시각화 코드\n",
        "import plotly.express as px\n",
        "\n",
        "#악성인것만 클래스 봄\n",
        "#class_count = df[df['dga'] == 'yes']['class'].value_counts().sort_index()\n",
        "\n",
        "# plotly 장점 - drage해서 정보보기, 확대 등 가능\n",
        "fig = px.histogram(\n",
        "    df,\n",
        "    x='domain_length',\n",
        "    #y=\"dga\",\n",
        "    color='dga',\n",
        "    #labels = {'domain_length': \"도매인 길이\", \"y\": \"정상여부\"},\n",
        "    labels = {'domain_length': \"도매인 길이\", \"count\": \"도메인수\", \"dga\": 'DGA여부'},\n",
        "    #text=class_count.values,\n",
        "    opacity = 0.7,\n",
        "    barmode = 'overlay',\n",
        "    title=\"도메인 길이별 정상 여부\"\n",
        ")\n",
        "fig.show()"
      ],
      "metadata": {
        "id": "QMc-ySAPII58"
      },
      "execution_count": null,
      "outputs": []
    },
    {
      "cell_type": "code",
      "source": [],
      "metadata": {
        "id": "g5TivWVtI9NH"
      },
      "execution_count": null,
      "outputs": []
    }
  ]
}